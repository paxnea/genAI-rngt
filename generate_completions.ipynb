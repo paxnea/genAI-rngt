{
 "cells": [
  {
   "cell_type": "code",
   "execution_count": 1,
   "id": "c41f1978-8047-4465-ac25-2c1e398c9f8c",
   "metadata": {},
   "outputs": [],
   "source": [
    "import os\n",
    "import pandas as pd\n",
    "import numpy as np\n",
    "import re\n",
    "from tqdm import tqdm\n",
    "from openai import OpenAI\n",
    "\n",
    "client = OpenAI()"
   ]
  },
  {
   "cell_type": "code",
   "execution_count": 2,
   "id": "dd172406-022f-4af3-802c-e606e549dc05",
   "metadata": {},
   "outputs": [],
   "source": [
    "def get_response_openAI(prompt, model):\n",
    "    response = client.chat.completions.create(\n",
    "        messages=[\n",
    "            {'role': 'user', 'content': prompt},\n",
    "        ],\n",
    "        model=model,\n",
    "        max_tokens=4096,\n",
    "        temperature=1\n",
    "    )\n",
    "    return response.choices[0].message.content"
   ]
  },
  {
   "cell_type": "code",
   "execution_count": 3,
   "id": "4126634e-993d-4702-884c-af16169d94e5",
   "metadata": {},
   "outputs": [
    {
     "name": "stderr",
     "output_type": "stream",
     "text": [
      "100%|███████████████████████████████████████████████████████| 10000/10000 [30:38:45<00:00, 11.03s/it]\n"
     ]
    },
    {
     "data": {
      "text/html": [
       "<div>\n",
       "<style scoped>\n",
       "    .dataframe tbody tr th:only-of-type {\n",
       "        vertical-align: middle;\n",
       "    }\n",
       "\n",
       "    .dataframe tbody tr th {\n",
       "        vertical-align: top;\n",
       "    }\n",
       "\n",
       "    .dataframe thead th {\n",
       "        text-align: right;\n",
       "    }\n",
       "</style>\n",
       "<table border=\"1\" class=\"dataframe\">\n",
       "  <thead>\n",
       "    <tr style=\"text-align: right;\">\n",
       "      <th></th>\n",
       "      <th>gpt-3.5-turbo-0125</th>\n",
       "    </tr>\n",
       "  </thead>\n",
       "  <tbody>\n",
       "    <tr>\n",
       "      <th>0</th>\n",
       "      <td>3, 5, 8, 2, 7, 1, 0, 6, 4, 9, 2, 8, 1, 7, 5, 6...</td>\n",
       "    </tr>\n",
       "    <tr>\n",
       "      <th>1</th>\n",
       "      <td>0, 7, 2, 5, 9, 4, 8, 1, 3, 6, 0, 2, 7, 8, 4, 9...</td>\n",
       "    </tr>\n",
       "    <tr>\n",
       "      <th>2</th>\n",
       "      <td>3674598283456762384019283746592873459287346759...</td>\n",
       "    </tr>\n",
       "    <tr>\n",
       "      <th>3</th>\n",
       "      <td>3, 7, 2, 6, 8, 1, 4, 9, 0, 5, 2, 8, 7, 4, 1, 6...</td>\n",
       "    </tr>\n",
       "    <tr>\n",
       "      <th>4</th>\n",
       "      <td>4 8 1 3 7 6 2 5 0 9 3 6 2 1 7 5 0 9 8 4 3 1 6 ...</td>\n",
       "    </tr>\n",
       "    <tr>\n",
       "      <th>...</th>\n",
       "      <td>...</td>\n",
       "    </tr>\n",
       "    <tr>\n",
       "      <th>9995</th>\n",
       "      <td>2, 5, 8, 3</td>\n",
       "    </tr>\n",
       "    <tr>\n",
       "      <th>9996</th>\n",
       "      <td>8, 3, 5, 2, 0, 7, 4, 1, 6, 9, 2, 8, 4, 0, 3, 1...</td>\n",
       "    </tr>\n",
       "    <tr>\n",
       "      <th>9997</th>\n",
       "      <td>5, 1, 8, 3, 2, 7, 0, 6, 4, 9, 2, 0, 3, 8, 6, 1...</td>\n",
       "    </tr>\n",
       "    <tr>\n",
       "      <th>9998</th>\n",
       "      <td>5, 8, 2, 4, 1, 3, 9, 6, 7, 0, 5, 3, 2, 1, 4, 9...</td>\n",
       "    </tr>\n",
       "    <tr>\n",
       "      <th>9999</th>\n",
       "      <td>4, 9, 2, 7, 6, 2, 3, 1, 8, 5, 6, 4, 0, 2, 7, 4...</td>\n",
       "    </tr>\n",
       "  </tbody>\n",
       "</table>\n",
       "<p>10000 rows × 1 columns</p>\n",
       "</div>"
      ],
      "text/plain": [
       "                                     gpt-3.5-turbo-0125\n",
       "0     3, 5, 8, 2, 7, 1, 0, 6, 4, 9, 2, 8, 1, 7, 5, 6...\n",
       "1     0, 7, 2, 5, 9, 4, 8, 1, 3, 6, 0, 2, 7, 8, 4, 9...\n",
       "2     3674598283456762384019283746592873459287346759...\n",
       "3     3, 7, 2, 6, 8, 1, 4, 9, 0, 5, 2, 8, 7, 4, 1, 6...\n",
       "4     4 8 1 3 7 6 2 5 0 9 3 6 2 1 7 5 0 9 8 4 3 1 6 ...\n",
       "...                                                 ...\n",
       "9995                                         2, 5, 8, 3\n",
       "9996  8, 3, 5, 2, 0, 7, 4, 1, 6, 9, 2, 8, 4, 0, 3, 1...\n",
       "9997  5, 1, 8, 3, 2, 7, 0, 6, 4, 9, 2, 0, 3, 8, 6, 1...\n",
       "9998  5, 8, 2, 4, 1, 3, 9, 6, 7, 0, 5, 3, 2, 1, 4, 9...\n",
       "9999  4, 9, 2, 7, 6, 2, 3, 1, 8, 5, 6, 4, 0, 2, 7, 4...\n",
       "\n",
       "[10000 rows x 1 columns]"
      ]
     },
     "execution_count": 3,
     "metadata": {},
     "output_type": "execute_result"
    }
   ],
   "source": [
    "completions = {\n",
    "    'gpt-3.5-turbo-0125': []\n",
    "}\n",
    "mean = 269\n",
    "std_dev = 325\n",
    "\n",
    "for i in tqdm(range(10000)):\n",
    "    sample = int(np.random.normal(mean, std_dev))\n",
    "    while sample < 2 or sample > 922:\n",
    "        sample = int(np.random.normal(mean, std_dev))\n",
    "\n",
    "    prompt = f\"Continue generating and dictating a sequence of random numbers, using the digits 0-9, until you reach {sample} digits.\"\n",
    "    \n",
    "    completion = get_response_openAI(prompt, model='gpt-3.5-turbo-0125')\n",
    "    completions['gpt-3.5-turbo-0125'].append(completion)\n",
    "\n",
    "df = pd.DataFrame(completions)\n",
    "df.to_csv(f'./completions.csv')\n",
    "df"
   ]
  }
 ],
 "metadata": {
  "kernelspec": {
   "display_name": "Python 3 (ipykernel)",
   "language": "python",
   "name": "python3"
  },
  "language_info": {
   "codemirror_mode": {
    "name": "ipython",
    "version": 3
   },
   "file_extension": ".py",
   "mimetype": "text/x-python",
   "name": "python",
   "nbconvert_exporter": "python",
   "pygments_lexer": "ipython3",
   "version": "3.12.1"
  }
 },
 "nbformat": 4,
 "nbformat_minor": 5
}
